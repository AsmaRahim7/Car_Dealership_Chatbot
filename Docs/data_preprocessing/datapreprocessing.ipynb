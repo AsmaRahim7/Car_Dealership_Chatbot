{
 "cells": [
  {
   "cell_type": "code",
   "execution_count": 5,
   "id": "c69789dd",
   "metadata": {},
   "outputs": [],
   "source": [
    "import pandas as pd\n",
    "import glob\n",
    "import os"
   ]
  },
  {
   "cell_type": "code",
   "execution_count": 1,
   "id": "c3ade0d2",
   "metadata": {},
   "outputs": [],
   "source": [
    "# Path to folder containing CSV files (update this path)\n",
    "csv_folder = \"/Users/asmaimran/github/Car_Dealership_Chatbot/Docs/data_preprocessing\"  # Example: \"./data\""
   ]
  },
  {
   "cell_type": "code",
   "execution_count": 6,
   "id": "19763521",
   "metadata": {},
   "outputs": [],
   "source": [
    "# Get all CSV files in the folder\n",
    "csv_files = glob.glob(os.path.join(csv_folder, \"*.csv\"))\n"
   ]
  },
  {
   "cell_type": "code",
   "execution_count": 7,
   "id": "07388171",
   "metadata": {},
   "outputs": [],
   "source": [
    "# List to hold DataFrames\n",
    "dfs = []"
   ]
  },
  {
   "cell_type": "code",
   "execution_count": 8,
   "id": "0046f8e4",
   "metadata": {},
   "outputs": [],
   "source": [
    "# Read each CSV and append to list\n",
    "for file in csv_files:\n",
    "    df = pd.read_csv(file)\n",
    "    dfs.append(df)"
   ]
  },
  {
   "cell_type": "code",
   "execution_count": 13,
   "id": "03dc28ad",
   "metadata": {},
   "outputs": [],
   "source": [
    "# Merge all DataFrames\n",
    "merged_df = pd.concat(dfs, ignore_index=True, axis=0)"
   ]
  },
  {
   "cell_type": "code",
   "execution_count": 15,
   "id": "7606d9a7",
   "metadata": {},
   "outputs": [],
   "source": [
    "# Remove duplicates (if any)\n",
    "merged_df = merged_df.drop_duplicates()\n"
   ]
  },
  {
   "cell_type": "code",
   "execution_count": 16,
   "id": "a2bc0da8",
   "metadata": {},
   "outputs": [
    {
     "name": "stdout",
     "output_type": "stream",
     "text": [
      "Merged 3 files into merged_cars_data.csv\n"
     ]
    }
   ],
   "source": [
    "# Save merged data to a new CSV\n",
    "merged_df.to_csv(\"merged_cars_data.csv\", index=False)\n",
    "print(f\"Merged {len(csv_files)} files into merged_cars_data.csv\")\n",
    "\n"
   ]
  },
  {
   "cell_type": "code",
   "execution_count": 18,
   "id": "dce4f3c8",
   "metadata": {},
   "outputs": [],
   "source": [
    "\n",
    "df = pd.read_csv(\"merged_cars_data.csv\")\n",
    "remove_col=[\"car_image\"]\n",
    "df=df.drop(columns=remove_col)\n"
   ]
  },
  {
   "cell_type": "code",
   "execution_count": 19,
   "id": "6dda6d4d",
   "metadata": {},
   "outputs": [],
   "source": [
    "df.to_csv(\"modified_cars_data.csv\", index=False)\n"
   ]
  }
 ],
 "metadata": {
  "kernelspec": {
   "display_name": ".venv",
   "language": "python",
   "name": "python3"
  },
  "language_info": {
   "codemirror_mode": {
    "name": "ipython",
    "version": 3
   },
   "file_extension": ".py",
   "mimetype": "text/x-python",
   "name": "python",
   "nbconvert_exporter": "python",
   "pygments_lexer": "ipython3",
   "version": "3.13.2"
  }
 },
 "nbformat": 4,
 "nbformat_minor": 5
}
